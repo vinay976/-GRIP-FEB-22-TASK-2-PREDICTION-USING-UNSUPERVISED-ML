{
 "cells": [
  {
   "cell_type": "markdown",
   "id": "bb754098",
   "metadata": {},
   "source": [
    "# GRIP:THE SPARKS FOUNDATION\n",
    "\n",
    "# DATA SCIENCE AND BUSINESS ANALYTICS INTERN\n",
    "\n",
    "# AUTHOR: JANAPATI VINAY KUMAR YADAV\n",
    "\n",
    "# TASK 2 : PREDICTION USING UNSUPERVISED ML\n",
    "\n",
    "# From the given 'iris' dataset predicting the optimum number of clusters and representing it visually.\n",
    "\n"
   ]
  },
  {
   "cell_type": "markdown",
   "id": "1e4ff6b3",
   "metadata": {},
   "source": [
    "# Importing necessary libraries\n"
   ]
  },
  {
   "cell_type": "code",
   "execution_count": 1,
   "id": "1273b766",
   "metadata": {},
   "outputs": [],
   "source": [
    "import pandas as pd\n",
    "import numpy as np\n",
    "from sklearn.cluster import KMeans\n",
    "import seaborn as sns\n",
    "import matplotlib.pyplot as plt\n",
    "\n"
   ]
  },
  {
   "cell_type": "markdown",
   "id": "dd21a46a",
   "metadata": {},
   "source": [
    "# Read the data\n"
   ]
  },
  {
   "cell_type": "code",
   "execution_count": 24,
   "id": "fc082bf5",
   "metadata": {},
   "outputs": [],
   "source": [
    "data=pd.read_csv(r\"file:///C:/Users/admin/Downloads/Iris%20-%20Iris.csv\")"
   ]
  },
  {
   "cell_type": "markdown",
   "id": "b744aa8d",
   "metadata": {},
   "source": [
    "# Print 5 rows of data\n"
   ]
  },
  {
   "cell_type": "code",
   "execution_count": 25,
   "id": "7a3c7723",
   "metadata": {},
   "outputs": [
    {
     "name": "stdout",
     "output_type": "stream",
     "text": [
      "   Id  SepalLengthCm  SepalWidthCm  PetalLengthCm  PetalWidthCm      Species\n",
      "0   1            5.1           3.5            1.4           0.2  Iris-setosa\n",
      "1   2            4.9           3.0            1.4           0.2  Iris-setosa\n",
      "2   3            4.7           3.2            1.3           0.2  Iris-setosa\n",
      "3   4            4.6           3.1            1.5           0.2  Iris-setosa\n",
      "4   5            5.0           3.6            1.4           0.2  Iris-setosa\n",
      "(150, 6)\n"
     ]
    }
   ],
   "source": [
    "print(data.head())\n",
    "print(data.shape)"
   ]
  },
  {
   "cell_type": "markdown",
   "id": "7632c950",
   "metadata": {},
   "source": [
    "# Quick info of the data\n"
   ]
  },
  {
   "cell_type": "code",
   "execution_count": 26,
   "id": "7a9c33fd",
   "metadata": {},
   "outputs": [
    {
     "name": "stdout",
     "output_type": "stream",
     "text": [
      "<class 'pandas.core.frame.DataFrame'>\n",
      "RangeIndex: 150 entries, 0 to 149\n",
      "Data columns (total 6 columns):\n",
      " #   Column         Non-Null Count  Dtype  \n",
      "---  ------         --------------  -----  \n",
      " 0   Id             150 non-null    int64  \n",
      " 1   SepalLengthCm  150 non-null    float64\n",
      " 2   SepalWidthCm   150 non-null    float64\n",
      " 3   PetalLengthCm  150 non-null    float64\n",
      " 4   PetalWidthCm   150 non-null    float64\n",
      " 5   Species        150 non-null    object \n",
      "dtypes: float64(4), int64(1), object(1)\n",
      "memory usage: 6.5+ KB\n",
      "None\n"
     ]
    }
   ],
   "source": [
    "print(data.info())\n"
   ]
  },
  {
   "cell_type": "markdown",
   "id": "d5272bb5",
   "metadata": {},
   "source": [
    "# Description of the dataset\n"
   ]
  },
  {
   "cell_type": "code",
   "execution_count": 27,
   "id": "384990dc",
   "metadata": {},
   "outputs": [
    {
     "name": "stdout",
     "output_type": "stream",
     "text": [
      "               Id  SepalLengthCm  SepalWidthCm  PetalLengthCm  PetalWidthCm\n",
      "count  150.000000     150.000000    150.000000     150.000000    150.000000\n",
      "mean    75.500000       5.843333      3.054000       3.758667      1.198667\n",
      "std     43.445368       0.828066      0.433594       1.764420      0.763161\n",
      "min      1.000000       4.300000      2.000000       1.000000      0.100000\n",
      "25%     38.250000       5.100000      2.800000       1.600000      0.300000\n",
      "50%     75.500000       5.800000      3.000000       4.350000      1.300000\n",
      "75%    112.750000       6.400000      3.300000       5.100000      1.800000\n",
      "max    150.000000       7.900000      4.400000       6.900000      2.500000\n"
     ]
    }
   ],
   "source": [
    "print(data.describe())\n"
   ]
  },
  {
   "cell_type": "markdown",
   "id": "0a452dc0",
   "metadata": {},
   "source": [
    "# Data types of all the varaibles of data \n"
   ]
  },
  {
   "cell_type": "code",
   "execution_count": 28,
   "id": "1cacb4f4",
   "metadata": {},
   "outputs": [
    {
     "name": "stdout",
     "output_type": "stream",
     "text": [
      "Id                 int64\n",
      "SepalLengthCm    float64\n",
      "SepalWidthCm     float64\n",
      "PetalLengthCm    float64\n",
      "PetalWidthCm     float64\n",
      "Species           object\n",
      "dtype: object\n"
     ]
    }
   ],
   "source": [
    "print(data.dtypes)\n"
   ]
  },
  {
   "cell_type": "markdown",
   "id": "e8e2d389",
   "metadata": {},
   "source": [
    "# Removing unnecessary columns 'Id' and 'Species'\n"
   ]
  },
  {
   "cell_type": "code",
   "execution_count": 29,
   "id": "b78b8d3b",
   "metadata": {},
   "outputs": [
    {
     "name": "stdout",
     "output_type": "stream",
     "text": [
      "   SepalLengthCm  SepalWidthCm  PetalLengthCm  PetalWidthCm\n",
      "0            5.1           3.5            1.4           0.2\n",
      "1            4.9           3.0            1.4           0.2\n",
      "2            4.7           3.2            1.3           0.2\n",
      "3            4.6           3.1            1.5           0.2\n",
      "4            5.0           3.6            1.4           0.2\n"
     ]
    }
   ],
   "source": [
    "data=data.drop(columns=['Id','Species'])\n",
    "print(data.head())\n"
   ]
  },
  {
   "cell_type": "code",
   "execution_count": 30,
   "id": "e77e1024",
   "metadata": {},
   "outputs": [],
   "source": [
    "features=data.columns\n",
    "x=data[features].values"
   ]
  },
  {
   "cell_type": "markdown",
   "id": "ea7d1bfe",
   "metadata": {},
   "source": [
    "# Calculating best no. of cluster to be selected using WithinClusterSumOfSquare(WCSS)\n"
   ]
  },
  {
   "cell_type": "code",
   "execution_count": 31,
   "id": "06c4ee19",
   "metadata": {},
   "outputs": [],
   "source": [
    "wcss=[]\n",
    "for i in range(1,11):\n",
    "    kmeans=KMeans(i)\n",
    "    kmeans.fit(x)\n",
    "    wcss.append(kmeans.inertia_)\n"
   ]
  },
  {
   "cell_type": "markdown",
   "id": "b5b20289",
   "metadata": {},
   "source": [
    "# Plotting WCSS against cluster range\n"
   ]
  },
  {
   "cell_type": "code",
   "execution_count": 32,
   "id": "b2f2fc55",
   "metadata": {},
   "outputs": [
    {
     "data": {
      "image/png": "[encoded data removed]",
      "text/plain": [
       "<Figure size 432x288 with 1 Axes>"
      ]
     },
     "metadata": {
      "needs_background": "light"
     },
     "output_type": "display_data"
    }
   ],
   "source": [
    "number_cluster=range(1,11)\n",
    "plt.plot(number_cluster, wcss, marker='o', color='red')\n",
    "plt.title('The Elbow Title')\n",
    "plt.xlabel('Number of Clusters')\n",
    "plt.ylabel('WCSS')\n",
    "plt.grid()\n",
    "plt.show()\n"
   ]
  },
  {
   "cell_type": "markdown",
   "id": "d2720220",
   "metadata": {},
   "source": [
    "From the above graph, we can see that global minima occurred at k=3. This method shows the good number of clusters.\n",
    "\n",
    " "
   ]
  },
  {
   "cell_type": "markdown",
   "id": "b895a253",
   "metadata": {},
   "source": [
    "# Building the model on the data with calculated number of clusters\n"
   ]
  },
  {
   "cell_type": "code",
   "execution_count": 33,
   "id": "2edbd277",
   "metadata": {},
   "outputs": [
    {
     "name": "stdout",
     "output_type": "stream",
     "text": [
      "[1 1 1 1 1 1 1 1 1 1 1 1 1 1 1 1 1 1 1 1 1 1 1 1 1 1 1 1 1 1 1 1 1 1 1 1 1\n",
      " 1 1 1 1 1 1 1 1 1 1 1 1 1 0 0 2 0 0 0 0 0 0 0 0 0 0 0 0 0 0 0 0 0 0 0 0 0\n",
      " 0 0 0 2 0 0 0 0 0 0 0 0 0 0 0 0 0 0 0 0 0 0 0 0 0 0 2 0 2 2 2 2 0 2 2 2 2\n",
      " 2 2 0 0 2 2 2 2 0 2 0 2 0 2 2 0 0 2 2 2 2 2 0 2 2 2 2 0 2 2 2 0 2 2 2 0 2\n",
      " 2 0]\n"
     ]
    }
   ],
   "source": [
    "kmeans=KMeans(n_clusters=3, init='k-means++')\n",
    "y_kmeans=kmeans.fit_predict(x)\n",
    "print(y_kmeans)"
   ]
  },
  {
   "cell_type": "markdown",
   "id": "917266aa",
   "metadata": {},
   "source": [
    "# Adding this column n the data set with the predicted values by the model\n"
   ]
  },
  {
   "cell_type": "code",
   "execution_count": 34,
   "id": "c4a5feee",
   "metadata": {},
   "outputs": [
    {
     "name": "stdout",
     "output_type": "stream",
     "text": [
      "   SepalLengthCm  SepalWidthCm  PetalLengthCm  PetalWidthCm  Clusters\n",
      "0            5.1           3.5            1.4           0.2         1\n",
      "1            4.9           3.0            1.4           0.2         1\n",
      "2            4.7           3.2            1.3           0.2         1\n",
      "3            4.6           3.1            1.5           0.2         1\n",
      "4            5.0           3.6            1.4           0.2         1\n"
     ]
    }
   ],
   "source": [
    "data['Clusters']=y_kmeans\n",
    "print((data.head()))\n"
   ]
  },
  {
   "cell_type": "markdown",
   "id": "f9e72b5a",
   "metadata": {},
   "source": [
    "# Visualising the cluster columns\n",
    "# plt.title('Cluster of Iris Data')\n"
   ]
  },
  {
   "cell_type": "code",
   "execution_count": 35,
   "id": "7e177fc7",
   "metadata": {},
   "outputs": [
    {
     "data": {
      "image/png": "[encoded data removed]",
      "text/plain": [
       "<Figure size 432x288 with 1 Axes>"
      ]
     },
     "metadata": {
      "needs_background": "light"
     },
     "output_type": "display_data"
    }
   ],
   "source": [
    "plt.scatter(x[y_kmeans == 0, 0], x[y_kmeans == 0, 1], \n",
    "            s = 100, c = 'yellow', label = 'Iris-setosa')\n",
    "plt.scatter(x[y_kmeans == 1, 0], x[y_kmeans == 1, 1], \n",
    "            s = 100, c = 'blue', label = 'Iris-versicolour')\n",
    "plt.scatter(x[y_kmeans == 2, 0], x[y_kmeans == 2, 1],\n",
    "            s = 100, c = 'green', label = 'Iris-virginica')\n",
    "\n",
    "# Plotting the centroids of the clusters\n",
    "plt.scatter(kmeans.cluster_centers_[:, 0], kmeans.cluster_centers_[:,1], \n",
    "            s = 100, c = 'red', label = 'Centroids')\n",
    "\n",
    "plt.legend()\n",
    "plt.show()\n"
   ]
  },
  {
   "cell_type": "markdown",
   "id": "de7cbb4e",
   "metadata": {},
   "source": [
    "# The k-means clusters of the given dataset have been plotted. The optimum number of clusters found is to be 3.\n",
    "\n",
    "# End of Script"
   ]
  },
  {
   "cell_type": "markdown",
   "id": "f7e4d101",
   "metadata": {},
   "source": []
  }
 ],
 "metadata": {
  "kernelspec": {
   "display_name": "Python 3",
   "language": "python",
   "name": "python3"
  },
  "language_info": {
   "codemirror_mode": {
    "name": "ipython",
    "version": 3
   },
   "file_extension": ".py",
   "mimetype": "text/x-python",
   "name": "python",
   "nbconvert_exporter": "python",
   "pygments_lexer": "ipython3",
   "version": "3.8.8"
  }
 },
 "nbformat": 4,
 "nbformat_minor": 5
}
